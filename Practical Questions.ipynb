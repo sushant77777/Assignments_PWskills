{
  "nbformat": 4,
  "nbformat_minor": 0,
  "metadata": {
    "colab": {
      "provenance": []
    },
    "kernelspec": {
      "name": "python3",
      "display_name": "Python 3"
    },
    "language_info": {
      "name": "python"
    }
  },
  "cells": [
    {
      "cell_type": "markdown",
      "source": [
        "Practical Questions"
      ],
      "metadata": {
        "id": "WuOWKoqhYjfX"
      }
    },
    {
      "cell_type": "markdown",
      "source": [
        "1.Write a Python program to print \"Hello, World!\""
      ],
      "metadata": {
        "id": "TGlbi_L8PPx0"
      }
    },
    {
      "cell_type": "code",
      "source": [
        "print(\"Hello, World!\")"
      ],
      "metadata": {
        "colab": {
          "base_uri": "https://localhost:8080/"
        },
        "id": "6xyS1RnjPSvI",
        "outputId": "5dfe496c-61a2-44cc-f28e-98745b3db9de"
      },
      "execution_count": 7,
      "outputs": [
        {
          "output_type": "stream",
          "name": "stdout",
          "text": [
            "Hello, World!\n"
          ]
        }
      ]
    },
    {
      "cell_type": "markdown",
      "source": [
        "2.Write a Python program that displays your name and age."
      ],
      "metadata": {
        "id": "2iOUwEJWP-UR"
      }
    },
    {
      "cell_type": "code",
      "source": [
        "name = \"Sushant\"\n",
        "Age=22\n",
        "print(name)\n",
        "print(Age)"
      ],
      "metadata": {
        "colab": {
          "base_uri": "https://localhost:8080/"
        },
        "id": "E2-FJS1dQELA",
        "outputId": "ab2a8888-8f31-4961-a75a-2dc69a248c40"
      },
      "execution_count": 8,
      "outputs": [
        {
          "output_type": "stream",
          "name": "stdout",
          "text": [
            "Sushant\n",
            "22\n"
          ]
        }
      ]
    },
    {
      "cell_type": "markdown",
      "source": [
        "3.Write code to print all the pre-defined keywords in Python using the keyword library"
      ],
      "metadata": {
        "id": "711caDKeQb8U"
      }
    },
    {
      "cell_type": "code",
      "source": [
        "import keyword\n",
        "\n",
        "keywords=keyword.kwlist\n",
        "print(keywords)"
      ],
      "metadata": {
        "colab": {
          "base_uri": "https://localhost:8080/"
        },
        "id": "xdzNMHg7Qf7I",
        "outputId": "f3f174cb-0ac9-4e91-dd48-7e4f3bf8b9d9"
      },
      "execution_count": 13,
      "outputs": [
        {
          "output_type": "stream",
          "name": "stdout",
          "text": [
            "['False', 'None', 'True', 'and', 'as', 'assert', 'async', 'await', 'break', 'class', 'continue', 'def', 'del', 'elif', 'else', 'except', 'finally', 'for', 'from', 'global', 'if', 'import', 'in', 'is', 'lambda', 'nonlocal', 'not', 'or', 'pass', 'raise', 'return', 'try', 'while', 'with', 'yield']\n"
          ]
        }
      ]
    },
    {
      "cell_type": "markdown",
      "source": [
        "4.Write a program that checks if a given word is a Python keyword."
      ],
      "metadata": {
        "id": "2x6G7PagRezq"
      }
    },
    {
      "cell_type": "code",
      "source": [
        "import keyword\n",
        "word = input(\"Enter a word: \")\n",
        "\n",
        "if keyword.iskeyword(word):\n",
        "    print(f\"'{word}' is a Python keyword.\")\n",
        "else:\n",
        "    print(f\"'{word}' is NOT a Python keyword.\")"
      ],
      "metadata": {
        "colab": {
          "base_uri": "https://localhost:8080/"
        },
        "id": "8WDr0wmnRph-",
        "outputId": "307aa94a-2b0b-4cc6-8325-943e3db5331f"
      },
      "execution_count": 14,
      "outputs": [
        {
          "output_type": "stream",
          "name": "stdout",
          "text": [
            "Enter a word: hey\n",
            "'hey' is NOT a Python keyword.\n"
          ]
        }
      ]
    },
    {
      "cell_type": "markdown",
      "source": [
        "5. Create a list and tuple in Python, and demonstrate how attempting to change an element works differently."
      ],
      "metadata": {
        "id": "s2qtTJctSKeB"
      }
    },
    {
      "cell_type": "code",
      "source": [
        "# Creating a list\n",
        "my_list = [10, \"sushant\", 3.3,True]\n",
        "print(\"Original list:\", my_list)\n",
        "\n",
        "# Changing an element in the list\n",
        "my_list[1] = 99\n",
        "print(\"Modified list:\", my_list)\n",
        "\n",
        "# Creating a tuple\n",
        "my_tuple = (10, \"sushu\", 30)\n",
        "print(\"Original tuple:\", my_tuple)\n",
        "\n",
        "# Attempting to change an element in the tuple\n",
        "\n",
        "#Error when modifying tuple: 'tuple' object does not support item assignment"
      ],
      "metadata": {
        "colab": {
          "base_uri": "https://localhost:8080/"
        },
        "id": "WPPPkq-TSO8u",
        "outputId": "11fd2822-0980-4fd7-dc75-3c591cf8e36a"
      },
      "execution_count": 17,
      "outputs": [
        {
          "output_type": "stream",
          "name": "stdout",
          "text": [
            "Original list: [10, 'sushant', 3.3, True]\n",
            "Modified list: [10, 99, 3.3, True]\n",
            "Original tuple: (10, 'sushu', 30)\n"
          ]
        }
      ]
    },
    {
      "cell_type": "markdown",
      "source": [
        "6. Write a function to demonstrate the behavior of mutable and immutable arguments."
      ],
      "metadata": {
        "id": "lULJ9au1TDWC"
      }
    },
    {
      "cell_type": "code",
      "source": [
        "def modify(num, lst):\n",
        "    num += 5          # Immutable change\n",
        "    lst.append(99)    # Mutable change\n",
        "    print(\"Inside:\", num, lst)\n",
        "\n",
        "x = 10\n",
        "my_list = [1, 2]\n",
        "\n",
        "modify(x, my_list)\n",
        "print(\"Outside:\", x, my_list)"
      ],
      "metadata": {
        "id": "447Tlzl_TB4C"
      },
      "execution_count": null,
      "outputs": []
    },
    {
      "cell_type": "markdown",
      "source": [
        "7. Write a program that performs basic arithmetic operations on two user-input numbers"
      ],
      "metadata": {
        "id": "N2Y9qD23TVpG"
      }
    },
    {
      "cell_type": "code",
      "source": [
        "a= int(input(\"enter the value of a : \"))\n",
        "b=int(input(\"enter the value of b : \"))\n",
        "c=a+b\n",
        "print(f\"the sum of a and b is :\",c)"
      ],
      "metadata": {
        "colab": {
          "base_uri": "https://localhost:8080/"
        },
        "id": "5XlIS3DDTXKw",
        "outputId": "87a946f4-dee0-4a25-8535-1872b6e0bff6"
      },
      "execution_count": 19,
      "outputs": [
        {
          "output_type": "stream",
          "name": "stdout",
          "text": [
            "enter the value of a : 44\n",
            "enter the value of b : 44\n",
            "the sum of a and b is : 88\n"
          ]
        }
      ]
    },
    {
      "cell_type": "markdown",
      "source": [
        "8.Write a program to demonstrate the use of logical operators"
      ],
      "metadata": {
        "id": "f8RHTsN4T8KD"
      }
    },
    {
      "cell_type": "code",
      "source": [
        "#logical operators are used to combine the conditional statements\n",
        "\n",
        "age=int(input(\"enter the age :\"))\n",
        "voterid =input(\"you have voterid? :\")\n",
        "if age>=18 and voterid==\"Yes\":\n",
        "  print(\"you are eligible for vote \")\n",
        "else:\n",
        "  print(\"you are not eligible for vote\")"
      ],
      "metadata": {
        "colab": {
          "base_uri": "https://localhost:8080/"
        },
        "id": "RKHRTmCRT-h-",
        "outputId": "6375d8bd-a922-467a-edab-4840239e2cb6"
      },
      "execution_count": 20,
      "outputs": [
        {
          "output_type": "stream",
          "name": "stdout",
          "text": [
            "enter the age :21\n",
            "you have voterid? :yes\n",
            "you are not eligible for vote\n"
          ]
        }
      ]
    },
    {
      "cell_type": "markdown",
      "source": [
        "9.Write a Python program to convert user input from string to integer, float, and boolean types"
      ],
      "metadata": {
        "id": "Af0qU9UiU4gl"
      }
    },
    {
      "cell_type": "markdown",
      "source": [],
      "metadata": {
        "id": "rG5BSeYLS-N8"
      }
    },
    {
      "cell_type": "code",
      "source": [
        "a=input(\"enter whatever you want\")\n",
        "print(int(a))\n",
        "b=input(\"enter whatever you want\")\n",
        "print(float(b))\n",
        "c=input(\"enter whatever you want\")\n",
        "print(bool(c))"
      ],
      "metadata": {
        "colab": {
          "base_uri": "https://localhost:8080/"
        },
        "id": "N3ZDooyGVLJS",
        "outputId": "26c42800-6e7f-42ac-8a50-f1d0a9a55011"
      },
      "execution_count": 25,
      "outputs": [
        {
          "output_type": "stream",
          "name": "stdout",
          "text": [
            "enter whatever you want2\n",
            "2\n",
            "enter whatever you want34\n",
            "34.0\n",
            "enter whatever you want4\n",
            "True\n"
          ]
        }
      ]
    },
    {
      "cell_type": "markdown",
      "source": [
        "10. Write code to demonstrate type casting with list elements."
      ],
      "metadata": {
        "id": "R1ZAfcZrWs56"
      }
    },
    {
      "cell_type": "code",
      "source": [
        "a=[1,34.6,True,\"Sushu\"]\n",
        "print(type(a[1]))\n",
        "print(type(a[2]))"
      ],
      "metadata": {
        "colab": {
          "base_uri": "https://localhost:8080/"
        },
        "id": "445DkI5_WvEO",
        "outputId": "77a15f79-6d76-4be9-ea85-4871ca50d02a"
      },
      "execution_count": 27,
      "outputs": [
        {
          "output_type": "stream",
          "name": "stdout",
          "text": [
            "<class 'float'>\n",
            "<class 'bool'>\n"
          ]
        }
      ]
    },
    {
      "cell_type": "markdown",
      "source": [
        "11.Write a program that checks if a number is positive, negative, or zero."
      ],
      "metadata": {
        "id": "RDBhMLHTXCX_"
      }
    },
    {
      "cell_type": "code",
      "source": [
        "number =int(input(\"enter the number : -\"))\n",
        "\n",
        "if number>0:\n",
        "  print(\"number is Positve\")\n",
        "elif number<0:\n",
        "  print(\"number is negative\")\n",
        "else:\n",
        "  print(\"number is zero\")"
      ],
      "metadata": {
        "colab": {
          "base_uri": "https://localhost:8080/"
        },
        "id": "7qV_8UCxVXoC",
        "outputId": "0fc9f79d-6f6a-4456-cc66-3b6ff77b1661"
      },
      "execution_count": 29,
      "outputs": [
        {
          "output_type": "stream",
          "name": "stdout",
          "text": [
            "enter the number : -0\n",
            "number is zero\n"
          ]
        }
      ]
    },
    {
      "cell_type": "markdown",
      "source": [
        "12. Write a for loop to print numbers from 1 to 10."
      ],
      "metadata": {
        "id": "5a18FPxtXfjR"
      }
    },
    {
      "cell_type": "code",
      "source": [
        "for i in range(1,11):\n",
        "  print(i)"
      ],
      "metadata": {
        "colab": {
          "base_uri": "https://localhost:8080/"
        },
        "id": "Y1OJEHEoXkfJ",
        "outputId": "a4d56338-7a0d-487d-ae87-13473d1d37b2"
      },
      "execution_count": 30,
      "outputs": [
        {
          "output_type": "stream",
          "name": "stdout",
          "text": [
            "1\n",
            "2\n",
            "3\n",
            "4\n",
            "5\n",
            "6\n",
            "7\n",
            "8\n",
            "9\n",
            "10\n"
          ]
        }
      ]
    },
    {
      "cell_type": "markdown",
      "source": [
        "13.Write a Python program to find the sum of all even numbers between 1 and 50."
      ],
      "metadata": {
        "id": "FV9amUMkXo7R"
      }
    },
    {
      "cell_type": "code",
      "source": [
        "total = 0\n",
        "for i in range(1, 51):\n",
        "    if i % 2 == 0:\n",
        "        total += i\n",
        "print(f\"the sum of all even number from 1 to 50 is :\",total)"
      ],
      "metadata": {
        "colab": {
          "base_uri": "https://localhost:8080/"
        },
        "id": "8pfktfJtX2WG",
        "outputId": "a2386822-3e0e-4482-d962-f29cfd314f23"
      },
      "execution_count": 32,
      "outputs": [
        {
          "output_type": "stream",
          "name": "stdout",
          "text": [
            "the sum of all even number from 1 to 50 is : 650\n"
          ]
        }
      ]
    },
    {
      "cell_type": "markdown",
      "source": [
        "14.Write a program to reverse a string using a while loop."
      ],
      "metadata": {
        "id": "FqtZqp-KYHLT"
      }
    },
    {
      "cell_type": "code",
      "source": [
        "s = input(\"Enter a string: \")\n",
        "reversed_str = \"\"\n",
        "i = len(s) - 1\n",
        "\n",
        "while i >= 0:\n",
        "    reversed_str = reversed_str + s[i]\n",
        "    i = i - 1\n",
        "\n",
        "print(reversed_str)"
      ],
      "metadata": {
        "colab": {
          "base_uri": "https://localhost:8080/"
        },
        "id": "_mWXIF60YILf",
        "outputId": "39471b49-956d-4c99-e2dd-bbaa28d624de"
      },
      "execution_count": 34,
      "outputs": [
        {
          "output_type": "stream",
          "name": "stdout",
          "text": [
            "Enter a string: dvdfbnfdb\n",
            "bdfnbfdvd\n"
          ]
        }
      ]
    },
    {
      "cell_type": "markdown",
      "source": [
        "15. Write a Python program to calculate the factorial of a number provided by the user using a while loop"
      ],
      "metadata": {
        "id": "bGxEhrQvYU8y"
      }
    },
    {
      "cell_type": "code",
      "source": [
        "num = int(input(\"Enter a number: \"))\n",
        "factorial = 1\n",
        "i = 1\n",
        "\n",
        "while i <= num:\n",
        "    factorial *= i\n",
        "    i += 1\n",
        "\n",
        "print(\"Factorial is:\", factorial)"
      ],
      "metadata": {
        "colab": {
          "base_uri": "https://localhost:8080/"
        },
        "id": "z-DILATIYcVD",
        "outputId": "96f246c7-9e1d-49f7-c8fd-6e70e01621d0"
      },
      "execution_count": 35,
      "outputs": [
        {
          "output_type": "stream",
          "name": "stdout",
          "text": [
            "Enter a number: 4\n",
            "Factorial is: 24\n"
          ]
        }
      ]
    }
  ]
}